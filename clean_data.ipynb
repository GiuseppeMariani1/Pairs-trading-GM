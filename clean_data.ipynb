{
  "nbformat": 4,
  "nbformat_minor": 0,
  "metadata": {
    "colab": {
      "provenance": []
    },
    "kernelspec": {
      "name": "python3",
      "display_name": "Python 3"
    },
    "language_info": {
      "name": "python"
    }
  },
  "cells": [
    {
      "cell_type": "code",
      "execution_count": null,
      "metadata": {
        "id": "qDDXNUt1Lr6k"
      },
      "outputs": [],
      "source": [
        "import pandas as pd\n",
        "import yfinance as yf\n",
        "\n",
        "def get_sp500_tickers():\n",
        "    url = 'put a URL here'\n",
        "    tables = pd.read_html(url)\n",
        "    tickers = tables[0]['Symbol'].str.replace('.', '-').tolist()\n",
        "    return tickers\n",
        "\n",
        "def download_sp500_data(tickers):\n",
        "    data = yf.download(tickers, group_by='ticker')\n",
        "    return data\n",
        "\n",
        "tickers = get_sp500_tickers()\n",
        "sp500_data = download_sp500_data(tickers)\n"
      ]
    },
    {
      "cell_type": "code",
      "source": [
        "!pip uninstall -y patsy seaborn matplotlib numpy pandas"
      ],
      "metadata": {
        "id": "4N49swIiNRSM"
      },
      "execution_count": null,
      "outputs": []
    },
    {
      "cell_type": "code",
      "source": [
        "%pip install openpyxl"
      ],
      "metadata": {
        "id": "wRotcuoLMUBr"
      },
      "execution_count": null,
      "outputs": []
    }
  ]
}